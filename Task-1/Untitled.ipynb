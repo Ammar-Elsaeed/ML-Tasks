{
 "cells": [
  {
   "cell_type": "markdown",
   "id": "0effc439",
   "metadata": {},
   "source": [
    "## This file contains both the code and the report, you can find the report below.\n",
    "### Name: Ammar Alsaeed Mohammed "
   ]
  },
  {
   "cell_type": "markdown",
   "id": "97ecee51",
   "metadata": {},
   "source": [
    "### Loading the data:"
   ]
  },
  {
   "cell_type": "code",
   "execution_count": 1,
   "id": "b0c498b7",
   "metadata": {},
   "outputs": [],
   "source": [
    "from sklearn.datasets import load_digits\n",
    "digits = load_digits()"
   ]
  },
  {
   "cell_type": "code",
   "execution_count": 2,
   "id": "508b12da",
   "metadata": {},
   "outputs": [],
   "source": [
    "x = digits.data\n",
    "y = digits.target\n"
   ]
  },
  {
   "cell_type": "code",
   "execution_count": 3,
   "id": "77fe9bce",
   "metadata": {},
   "outputs": [
    {
     "name": "stdout",
     "output_type": "stream",
     "text": [
      "<class 'numpy.ndarray'>\n",
      "<class 'numpy.ndarray'>\n"
     ]
    },
    {
     "data": {
      "text/plain": [
       "(1797, 64)"
      ]
     },
     "execution_count": 3,
     "metadata": {},
     "output_type": "execute_result"
    }
   ],
   "source": [
    "print(type(x))\n",
    "print(type(y))\n",
    "x.shape"
   ]
  },
  {
   "cell_type": "markdown",
   "id": "aeec2339",
   "metadata": {},
   "source": [
    "### split data into training and testing:"
   ]
  },
  {
   "cell_type": "code",
   "execution_count": 4,
   "id": "66cdf7d6",
   "metadata": {},
   "outputs": [],
   "source": [
    "from sklearn.model_selection import train_test_split\n",
    "X_train, X_test, Y_train, Y_test = train_test_split(x, y, test_size=0.20, random_state=1)"
   ]
  },
  {
   "cell_type": "code",
   "execution_count": 5,
   "id": "68f1f3f6",
   "metadata": {},
   "outputs": [],
   "source": [
    "y_train_3 = (Y_train == 3)\n",
    "y_test_3 = (Y_test == 3)"
   ]
  },
  {
   "cell_type": "markdown",
   "id": "dc2df419",
   "metadata": {},
   "source": [
    "### train a binary classifier:"
   ]
  },
  {
   "cell_type": "code",
   "execution_count": 6,
   "id": "d4e27c0e",
   "metadata": {},
   "outputs": [
    {
     "data": {
      "text/plain": [
       "DecisionTreeClassifier()"
      ]
     },
     "execution_count": 6,
     "metadata": {},
     "output_type": "execute_result"
    }
   ],
   "source": [
    "from sklearn.tree import DecisionTreeClassifier\n",
    "from sklearn.metrics import confusion_matrix\n",
    "clf = DecisionTreeClassifier()\n",
    "clf.fit(X_train,y_train_3)"
   ]
  },
  {
   "cell_type": "code",
   "execution_count": 7,
   "id": "ee32fb8e",
   "metadata": {},
   "outputs": [],
   "source": [
    "predicted_3 = clf.predict(X_test)\n",
    "tn, fp, fn, tp = confusion_matrix(y_test_3, predicted_3).ravel()\n",
    "# "
   ]
  },
  {
   "cell_type": "code",
   "execution_count": 8,
   "id": "6714b8ed",
   "metadata": {},
   "outputs": [
    {
     "name": "stdout",
     "output_type": "stream",
     "text": [
      "317 2 9 32\n"
     ]
    }
   ],
   "source": [
    "print(tn, fp , fn , tp)"
   ]
  },
  {
   "cell_type": "markdown",
   "id": "ba9cd41a",
   "metadata": {},
   "source": [
    "### train a classifier to classify all 10 classes:"
   ]
  },
  {
   "cell_type": "code",
   "execution_count": 9,
   "id": "aa4a2914",
   "metadata": {},
   "outputs": [
    {
     "data": {
      "text/plain": [
       "array([[40,  0,  0,  0,  1,  1,  0,  0,  1,  0],\n",
       "       [ 0, 29,  2,  1,  1,  1,  0,  0,  0,  1],\n",
       "       [ 0,  0, 31,  2,  0,  1,  0,  0,  2,  0],\n",
       "       [ 0,  0,  0, 29,  1,  0,  1,  1,  3,  6],\n",
       "       [ 0,  1,  0,  0, 33,  1,  1,  1,  1,  0],\n",
       "       [ 0,  0,  0,  0,  0, 29,  0,  0,  0,  1],\n",
       "       [ 0,  0,  0,  0,  0,  0, 37,  0,  0,  0],\n",
       "       [ 0,  0,  1,  1,  2,  0,  0, 30,  1,  2],\n",
       "       [ 0,  0,  0,  0,  0,  2,  0,  1, 26,  0],\n",
       "       [ 0,  1,  0,  2,  1,  2,  0,  2,  1, 25]], dtype=int64)"
      ]
     },
     "execution_count": 9,
     "metadata": {},
     "output_type": "execute_result"
    }
   ],
   "source": [
    "clf.fit(X_train,Y_train)\n",
    "predicted = clf.predict(X_test)\n",
    "confusion_matrix(Y_test, predicted)\n"
   ]
  },
  {
   "cell_type": "markdown",
   "id": "1391d76e",
   "metadata": {},
   "source": [
    "## Report:\n",
    "  - show 5 examples from the dataset"
   ]
  },
  {
   "cell_type": "code",
   "execution_count": 10,
   "id": "818ccc1b",
   "metadata": {},
   "outputs": [
    {
     "data": {
      "image/png": "[encoded data removed]",
      "text/plain": [
       "<Figure size 432x288 with 1 Axes>"
      ]
     },
     "metadata": {
      "needs_background": "light"
     },
     "output_type": "display_data"
    },
    {
     "data": {
      "image/png": "[encoded data removed]",
      "text/plain": [
       "<Figure size 432x288 with 1 Axes>"
      ]
     },
     "metadata": {
      "needs_background": "light"
     },
     "output_type": "display_data"
    },
    {
     "data": {
      "image/png": "[encoded data removed]",
      "text/plain": [
       "<Figure size 432x288 with 1 Axes>"
      ]
     },
     "metadata": {
      "needs_background": "light"
     },
     "output_type": "display_data"
    },
    {
     "data": {
      "image/png": "[encoded data removed]",
      "text/plain": [
       "<Figure size 432x288 with 1 Axes>"
      ]
     },
     "metadata": {
      "needs_background": "light"
     },
     "output_type": "display_data"
    },
    {
     "data": {
      "image/png": "[encoded data removed]",
      "text/plain": [
       "<Figure size 432x288 with 1 Axes>"
      ]
     },
     "metadata": {
      "needs_background": "light"
     },
     "output_type": "display_data"
    }
   ],
   "source": [
    "import matplotlib\n",
    "import matplotlib.pyplot as plt\n",
    "some_digit = x[0]\n",
    "some_digit_image = some_digit.reshape(8,8)\n",
    "plt.imshow(some_digit_image, cmap = matplotlib.cm.binary,\n",
    "interpolation=\"nearest\")\n",
    "plt.axis(\"off\")\n",
    "plt.show()\n",
    "some_digit = x[1]\n",
    "some_digit_image = some_digit.reshape(8,8)\n",
    "plt.imshow(some_digit_image, cmap = matplotlib.cm.binary,\n",
    "interpolation=\"nearest\")\n",
    "plt.axis(\"off\")\n",
    "plt.show()\n",
    "some_digit = x[2]\n",
    "some_digit_image = some_digit.reshape(8,8)\n",
    "plt.imshow(some_digit_image, cmap = matplotlib.cm.binary,\n",
    "interpolation=\"nearest\")\n",
    "plt.axis(\"off\")\n",
    "plt.show()\n",
    "some_digit = x[3]\n",
    "some_digit_image = some_digit.reshape(8,8)\n",
    "plt.imshow(some_digit_image, cmap = matplotlib.cm.binary,\n",
    "interpolation=\"nearest\")\n",
    "plt.axis(\"off\")\n",
    "plt.show()\n",
    "some_digit = x[4]\n",
    "some_digit_image = some_digit.reshape(8,8)\n",
    "plt.imshow(some_digit_image, cmap = matplotlib.cm.binary,\n",
    "interpolation=\"nearest\")\n",
    "plt.axis(\"off\")\n",
    "plt.show()"
   ]
  },
  {
   "cell_type": "markdown",
   "id": "bdb06a09",
   "metadata": {},
   "source": [
    "- findings of previous requirments:\n",
    "  > DT classifier was used for both binary classification and multi-class classification\n",
    "  > in both cases, the returned confusion matrix showed good results"
   ]
  },
  {
   "cell_type": "markdown",
   "id": "44304435",
   "metadata": {},
   "source": [
    "- Confusion matrix:\n",
    "    - in case of binary classification, confusion matrix function returns true negative, false positive, false negative, true positive as a matrix. using .ravel() method we can return this 2x2 matrix as 4 variables.\n",
    "\n",
    "    - in case of multi-class classification, the diagonal of the matrix represents True values, for example array[3][3] is the number of images of class 3 that got classified correctly. while array[3][4], is the number of images of class 3 that got classified as class 4.\n",
    "\n"
   ]
  },
  {
   "cell_type": "code",
   "execution_count": null,
   "id": "80f30d2e",
   "metadata": {},
   "outputs": [],
   "source": []
  },
  {
   "cell_type": "code",
   "execution_count": null,
   "id": "c9805915",
   "metadata": {},
   "outputs": [],
   "source": []
  }
 ],
 "metadata": {
  "kernelspec": {
   "display_name": "Python 3",
   "language": "python",
   "name": "python3"
  },
  "language_info": {
   "codemirror_mode": {
    "name": "ipython",
    "version": 3
   },
   "file_extension": ".py",
   "mimetype": "text/x-python",
   "name": "python",
   "nbconvert_exporter": "python",
   "pygments_lexer": "ipython3",
   "version": "3.8.8"
  }
 },
 "nbformat": 4,
 "nbformat_minor": 5
}
