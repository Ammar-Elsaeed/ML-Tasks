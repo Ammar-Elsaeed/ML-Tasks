{
 "cells": [
  {
   "cell_type": "code",
   "execution_count": 1,
   "metadata": {},
   "outputs": [
    {
     "name": "stderr",
     "output_type": "stream",
     "text": [
      "<ipython-input-1-a1134f3f2fb4>:10: SettingWithCopyWarning: \n",
      "A value is trying to be set on a copy of a slice from a DataFrame.\n",
      "Try using .loc[row_indexer,col_indexer] = value instead\n",
      "\n",
      "See the caveats in the documentation: https://pandas.pydata.org/pandas-docs/stable/user_guide/indexing.html#returning-a-view-versus-a-copy\n",
      "  X_train[\"target\"]=y_train.to_numpy()\n"
     ]
    }
   ],
   "source": [
    "import pandas as pd\n",
    "import numpy as np\n",
    "from sklearn.model_selection import train_test_split \n",
    "data = pd.read_csv(\"cardio_train.csv\",sep=\";\")\n",
    "# print(data.shape)\n",
    "# print(data.columns)\n",
    "labels = data.iloc[:,-1]\n",
    "data = data.iloc[:,1:-1]\n",
    "X_train, X_test, y_train, y_test = train_test_split(data,labels,test_size=0.1,random_state=42)\n",
    "X_train[\"target\"]=y_train.to_numpy()\n"
   ]
  },
  {
   "cell_type": "code",
   "execution_count": 2,
   "metadata": {},
   "outputs": [],
   "source": [
    "def entropy(target):\n",
    "        distinct_Values = target.nunique()\n",
    "        value_counts = target.value_counts().to_numpy()\n",
    "        total = value_counts.sum()\n",
    "        entropy =0\n",
    "        for term in range(distinct_Values):\n",
    "            entropy=entropy + value_counts[term]/total * np.log2( value_counts[term]/total)\n",
    "        return -1*entropy\n",
    "\n",
    "def entropy_eq(num1,num2):\n",
    "    denum = num1+num2\n",
    "    if (num1 ==0) or (num2 ==0):\n",
    "        return 0 \n",
    "    else:\n",
    "        return -1*(num1/denum * np.log2(num1/denum) + num2/denum * np.log2(num2/denum))"
   ]
  },
  {
   "cell_type": "code",
   "execution_count": 3,
   "metadata": {},
   "outputs": [],
   "source": [
    "def information_gain(feature_target):\n",
    "    distinct_Values = feature_target.iloc[:,0].nunique()\n",
    "    value_counts = feature_target.iloc[:,0].value_counts().to_numpy()\n",
    "    total = value_counts.sum()\n",
    "    target_zerocounts = feature_target.groupby(feature_target.iloc[:,0])[\"target\"].agg(lambda x: x.eq(0).sum()).to_numpy()\n",
    "    target_onescounts = feature_target.groupby(feature_target.iloc[:,0])[\"target\"].agg(lambda x: x.eq(1).sum()).to_numpy()\n",
    "    info_gain = entropy(feature_target.iloc[:,1])\n",
    "    for value in range(distinct_Values):\n",
    "        info_gain = info_gain - value_counts[value]/total * entropy_eq(target_zerocounts[value],target_onescounts[value])\n",
    "    return info_gain\n",
    "        \n",
    "def gini_impurity(feature_target):\n",
    "   counts = feature_target.groupby(feature_target.columns[0])[\"target\"].value_counts().to_numpy()\n",
    "   propability =  counts/feature_target.shape[0]\n",
    "   gini = 1 - np.square(propability).sum()\n",
    "\n",
    "   return gini\n",
    "info_gain = information_gain(X_train.iloc[:,[6,-1]])\n",
    "gini = gini_impurity(X_train.iloc[:,[10,-1]])\n"
   ]
  },
  {
   "cell_type": "code",
   "execution_count": 4,
   "metadata": {},
   "outputs": [
    {
     "name": "stdout",
     "output_type": "stream",
     "text": [
      "[0.9998955364071554, 0.727043880574452, 0.9793469690098262, 0.9874093837238599, 0.8785581909800957, 0.8308109412950365, 0.6975700256991686, 0.632712052910053, 0.5804446495338876, 0.5511076336608718, 0.657478634920635]\n"
     ]
    }
   ],
   "source": [
    "#Code that calculates gini or info gain for all features and return index of best split\n",
    "metrictype = \"gini\"\n",
    "def calculate_metric(df):\n",
    "    metric = []\n",
    "    if metrictype == \"gini\":\n",
    "        for feature in range(df.shape[1]-1):\n",
    "            metric.append(gini_impurity(df.iloc[:,[feature,-1]]))\n",
    "        print(metric)\n",
    "        best_splitidx = np.where(metric==min(metric))\n",
    "    elif metrictype == \"ig\":\n",
    "        for feature in range(df.shape[1]-1):\n",
    "            metric.append(information_gain(X_train.iloc[:,[feature,-1]]))\n",
    "        print(metric)\n",
    "        best_splitidx = np.where(metric==(max(metric)))\n",
    "    return best_splitidx\n",
    "    \n",
    "bestfeature = calculate_metric(X_train)"
   ]
  },
  {
   "cell_type": "code",
   "execution_count": 10,
   "metadata": {},
   "outputs": [
    {
     "name": "stdout",
     "output_type": "stream",
     "text": [
      "[0 1]\n"
     ]
    }
   ],
   "source": [
    "def find_split(bestfeature,df):\n",
    "    bestcol_name = df.columns[bestfeature[0][0]]\n",
    "    print(df[bestcol_name].unique())\n",
    "    df = df.sort_values(bestcol_name)\n",
    "    value_counts = df.shape[0]\n",
    "    gini = []\n",
    "    for value in df.iloc[:,bestfeature[0][0]].unique():\n",
    "        leftdf = df[df[bestcol_name]<=value]\n",
    "        rightdf = df[df[bestcol_name]>value]\n",
    "        # print(value)\n",
    "        if rightdf.empty:\n",
    "            break\n",
    "        else:\n",
    "            ginileft = gini_impurity(leftdf[[bestcol_name,\"target\"]])\n",
    "            giniright =  gini_impurity(rightdf[[bestcol_name,\"target\"]])\n",
    "            gini.append(leftdf.shape[0]/value_counts * ginileft + rightdf.shape[0]/value_counts * giniright)\n",
    "    gini = np.asarray(gini)\n",
    "    bestsplit_idx = np.where(gini==min(gini))\n",
    "    values =  df.iloc[:,bestfeature[0][0]].unique()\n",
    "    splitvalue = values[bestsplit_idx]\n",
    "    leftnode = df[df[bestcol_name]<=splitvalue]\n",
    "    rightnode = rightdf = df[df[bestcol_name]>splitvalue]\n",
    "    \n",
    "\n",
    "find_split(bestfeature,X_train)\n"
   ]
  }
 ],
 "metadata": {
  "interpreter": {
   "hash": "588d49391b6d3799a162df0222124dcb982f2f3fb55a5b5f4bcdbe6ca376e2a6"
  },
  "kernelspec": {
   "display_name": "Python 3.9.7 64-bit",
   "language": "python",
   "name": "python3"
  },
  "language_info": {
   "codemirror_mode": {
    "name": "ipython",
    "version": 3
   },
   "file_extension": ".py",
   "mimetype": "text/x-python",
   "name": "python",
   "nbconvert_exporter": "python",
   "pygments_lexer": "ipython3",
   "version": "3.9.7"
  },
  "orig_nbformat": 4
 },
 "nbformat": 4,
 "nbformat_minor": 2
}
