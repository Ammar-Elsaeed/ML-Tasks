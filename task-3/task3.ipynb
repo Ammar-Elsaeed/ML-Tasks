{
 "cells": [
  {
   "cell_type": "code",
   "execution_count": null,
   "metadata": {},
   "outputs": [],
   "source": [
    "import pandas as pd\n",
    "import numpy as np\n",
    "from sklearn.model_selection import train_test_split \n",
    "data = pd.read_csv(\"cardio_train.csv\",sep=\";\")\n",
    "# print(data.shape)\n",
    "# print(data.columns)\n",
    "labels = data.iloc[:,-1]\n",
    "data = data.iloc[:,:-1]\n",
    "X_train, X_test, y_train, y_test = train_test_split(data,labels,test_size=0.1,random_state=42)\n",
    "X_train[\"target\"]=y_train.to_numpy()\n",
    "# X_train.head()\n",
    "print(X_train.columns)\n",
    "X_train.iloc[:,[-1,-1]]\n",
    "\n"
   ]
  },
  {
   "cell_type": "code",
   "execution_count": null,
   "metadata": {},
   "outputs": [],
   "source": [
    "def entropy(target):\n",
    "        distinct_Values = target.nunique()\n",
    "        value_counts = target.value_counts().to_numpy()\n",
    "        total = value_counts.sum()\n",
    "        entropy =0\n",
    "        for term in range(distinct_Values):\n",
    "            entropy=entropy + value_counts[term]/total * np.log2( value_counts[term]/total)\n",
    "        return -1*entropy\n",
    "\n",
    "def entropy_eq(num1,num2):\n",
    "    denum = num1+num2\n",
    "    return -1*(num1/denum * np.log2(num1/denum) + num2/denum * np.log2(num2/denum))\n",
    "\n",
    "\n"
   ]
  },
  {
   "cell_type": "code",
   "execution_count": 26,
   "metadata": {},
   "outputs": [
    {
     "name": "stdout",
     "output_type": "stream",
     "text": [
      "[ 6594  5762 25757 24887]\n",
      "[0.10466667 0.09146032 0.40884127 0.39503175]\n",
      "0.657478634920635\n"
     ]
    }
   ],
   "source": [
    "def information_gain(feature_target):\n",
    "    distinct_Values = feature_target.iloc[:,0].nunique()\n",
    "    value_counts = feature_target.iloc[:,0].value_counts().to_numpy()\n",
    "    total = value_counts.sum()\n",
    "    target_counts = feature_target.groupby(feature_target.iloc[:,0])[\"target\"].value_counts().to_numpy()\n",
    "    targets = feature_target.groupby(feature_target.iloc[:,0])[\"target\"]\n",
    "    # print(targets.head())\n",
    "    # print(target_counts)\n",
    "    info_gain = entropy(feature_target.iloc[:,1])\n",
    "    for value in range(distinct_Values):\n",
    "        info_gain = info_gain - value_counts[value]/total * entropy_eq(target_counts[value],target_counts[value+1])\n",
    "    return info_gain\n",
    "        \n",
    "def gini_impurity(feature_target):\n",
    "   counts = feature_target.groupby(feature_target.columns[0])[\"target\"].value_counts().to_numpy()\n",
    "   propability =  counts/feature_target.shape[0]\n",
    "   gini = 1 - np.square(propability).sum()\n",
    "\n",
    "   print(counts)\n",
    "   print(propability)\n",
    "   return gini\n",
    "# print(X_train.iloc[:,[2,-1]].nunique())\n",
    "\n",
    "\n",
    "info_gain = information_gain(X_train.iloc[:,[6,-1]])\n",
    "gini = gini_impurity(X_train.iloc[:,[11,-1]])\n",
    "print(gini)\n",
    "\n"
   ]
  },
  {
   "cell_type": "code",
   "execution_count": null,
   "metadata": {},
   "outputs": [],
   "source": [
    "#Code that calculates gini or info gain for all features and return index of best split\n",
    "metrictype = \"gini\"\n",
    "def calculate_metric(df):\n",
    "    metric = []\n",
    "    if metrictype == \"gini\":\n",
    "        for feature in range(df.shape[1]-1):\n",
    "            metric.append(gini_impurity(df.iloc[:,[feature,-1]]))\n",
    "        print(metric)\n",
    "        \n",
    "        # best_splitidx = np.where(metric==min(metric))\n",
    "    elif metrictype == \"ig\":\n",
    "        for feature in range(df.shape[1]-1):\n",
    "            metric.append(information_gain(X_train.iloc[:,[feature,-1]]))\n",
    "            best_splitidx = np.where(metric==(max(metric)))\n",
    "    return best_splitidx\n",
    "    \n",
    "calculate_metric(X_train)\n",
    "        \n",
    "\n"
   ]
  }
 ],
 "metadata": {
  "interpreter": {
   "hash": "588d49391b6d3799a162df0222124dcb982f2f3fb55a5b5f4bcdbe6ca376e2a6"
  },
  "kernelspec": {
   "display_name": "Python 3.9.7 64-bit",
   "language": "python",
   "name": "python3"
  },
  "language_info": {
   "codemirror_mode": {
    "name": "ipython",
    "version": 3
   },
   "file_extension": ".py",
   "mimetype": "text/x-python",
   "name": "python",
   "nbconvert_exporter": "python",
   "pygments_lexer": "ipython3",
   "version": "3.9.7"
  },
  "orig_nbformat": 4
 },
 "nbformat": 4,
 "nbformat_minor": 2
}
