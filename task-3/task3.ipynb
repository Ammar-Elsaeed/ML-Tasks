{
 "cells": [
  {
   "cell_type": "code",
   "execution_count": 29,
   "metadata": {},
   "outputs": [
    {
     "name": "stdout",
     "output_type": "stream",
     "text": [
      "(70000, 13)\n",
      "Index(['id', 'age', 'gender', 'height', 'weight', 'ap_hi', 'ap_lo',\n",
      "       'cholesterol', 'gluc', 'smoke', 'alco', 'active', 'cardio'],\n",
      "      dtype='object')\n"
     ]
    },
    {
     "name": "stderr",
     "output_type": "stream",
     "text": [
      "<ipython-input-29-25ec7eb65946>:10: SettingWithCopyWarning: \n",
      "A value is trying to be set on a copy of a slice from a DataFrame.\n",
      "Try using .loc[row_indexer,col_indexer] = value instead\n",
      "\n",
      "See the caveats in the documentation: https://pandas.pydata.org/pandas-docs/stable/user_guide/indexing.html#returning-a-view-versus-a-copy\n",
      "  X_train[\"target\"]=y_train.to_numpy()\n"
     ]
    }
   ],
   "source": [
    "import pandas as pd\n",
    "import numpy as np\n",
    "from sklearn.model_selection import train_test_split \n",
    "data = pd.read_csv(\"cardio_train.csv\",sep=\";\")\n",
    "print(data.shape)\n",
    "print(data.columns)\n",
    "labels = data.iloc[:,-1]\n",
    "data = data.iloc[:,:-1]\n",
    "X_train, X_test, y_train, y_test = train_test_split(data,labels,test_size=0.1,random_state=42)\n",
    "X_train[\"target\"]=y_train.to_numpy()\n",
    "# X_train.iloc[:,[0,-1]]\n",
    "\n"
   ]
  },
  {
   "cell_type": "code",
   "execution_count": 54,
   "metadata": {},
   "outputs": [
    {
     "data": {
      "text/plain": [
       "0.40646828000074053"
      ]
     },
     "execution_count": 54,
     "metadata": {},
     "output_type": "execute_result"
    }
   ],
   "source": [
    "def entropy(target):\n",
    "        distinct_Values = target.nunique()\n",
    "        value_counts = target.value_counts().to_numpy()\n",
    "        total = value_counts.sum()\n",
    "        entropy =0\n",
    "        for term in range(distinct_Values):\n",
    "            entropy=entropy + value_counts[term]/total * np.log2( value_counts[term]/total)\n",
    "        return -1*entropy\n",
    "\n",
    "def entropy_eq(num1,num2):\n",
    "    denum = num1+num2\n",
    "    return -1*(num1/denum * np.log2(num1/denum) + num2/denum * np.log2(num2/denum))\n",
    "\n",
    "\n",
    "def information_gain(feature_target):\n",
    "    distinct_Values = feature_target.iloc[:,0].nunique()\n",
    "    value_counts = feature_target.iloc[:,0].value_counts().to_numpy()\n",
    "    total = value_counts.sum()\n",
    "    target_counts = feature_target.groupby(feature_target.iloc[:,0])[\"target\"].value_counts().to_numpy()\n",
    "    targets = feature_target.groupby(feature_target.iloc[:,0])[\"target\"]\n",
    "    # print(targets.head())\n",
    "    # print(target_counts)\n",
    "    info_gain = entropy(feature_target.iloc[:,1])\n",
    "    for value in range(distinct_Values):\n",
    "        info_gain = info_gain - value_counts[value]/total * entropy_eq(target_counts[value],target_counts[value+1])\n",
    "    return info_gain\n",
    "        \n",
    "        \n",
    "# print(X_train.iloc[:,[2,-1]].nunique())\n",
    "info_gain = information_gain(X_train.iloc[:,[6,-1]])\n",
    "info_gain\n",
    "    \n"
   ]
  }
 ],
 "metadata": {
  "interpreter": {
   "hash": "588d49391b6d3799a162df0222124dcb982f2f3fb55a5b5f4bcdbe6ca376e2a6"
  },
  "kernelspec": {
   "display_name": "Python 3.9.7 64-bit",
   "language": "python",
   "name": "python3"
  },
  "language_info": {
   "codemirror_mode": {
    "name": "ipython",
    "version": 3
   },
   "file_extension": ".py",
   "mimetype": "text/x-python",
   "name": "python",
   "nbconvert_exporter": "python",
   "pygments_lexer": "ipython3",
   "version": "3.9.7"
  },
  "orig_nbformat": 4
 },
 "nbformat": 4,
 "nbformat_minor": 2
}
