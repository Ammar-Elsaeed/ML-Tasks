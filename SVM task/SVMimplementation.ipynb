{
 "cells": [
  {
   "cell_type": "markdown",
   "metadata": {},
   "source": [
    "### For Proplem 1 , we Load the data, try different random states for train test split and avergae the accuracy, Report what happens\n",
    "### while proplem 2 , we do the same but we normalize the data first and report the outcome. "
   ]
  },
  {
   "cell_type": "code",
   "execution_count": null,
   "metadata": {},
   "outputs": [],
   "source": [
    "import pandas as pd\n",
    "import numpy as np\n",
    "from sklearn.model_selection  import train_test_split\n",
    "data = pd.read_csv('data.txt', sep=\" \", header=None)\n",
    "column_names = []\n",
    "for i in range(1,25):\n",
    "    column_names.append(\"f_{}\".format(i))\n",
    "column_names.append(\"target\")\n"
   ]
  },
  {
   "cell_type": "code",
   "execution_count": null,
   "metadata": {},
   "outputs": [],
   "source": [
    "from sklearn.model_selection import KFold\n",
    "from operator import itemgetter\n",
    "kfold = KFold(n_splits=10,shuffle=True,random_state=42)\n",
    "for train_idx,test_idx in kfold.split(data):\n",
    "    training = data.iloc[train_idx,0:-1]\n",
    "    validation = data.iloc[test_idx,0:-1]\n",
    "train_labels = list(itemgetter(*train_idx)(data.iloc[:,-1]))"
   ]
  },
  {
   "cell_type": "code",
   "execution_count": null,
   "metadata": {},
   "outputs": [],
   "source": [
    "from sklearn import svm\n",
    "from operator import itemgetter\n",
    "from sklearn.metrics import confusion_matrix\n",
    "acc = np.empty(10)\n",
    "acc_norm = np.empty(10)\n",
    "for i in range(0,10):\n",
    "    X_train, X_test, y_train, y_test = train_test_split(data.iloc[:,0:-1],data.iloc[:,-1], test_size=0.40, random_state=i)\n",
    "    X_train = np.asarray(X_train)\n",
    "    X_test = np.asarray(X_test)\n",
    "    svm_clf = svm.SVC(kernel='linear')\n",
    "    svm_clf.fit(X_train, y_train)\n",
    "    pred_labels = svm_clf.predict(X_test)\n",
    "    TN, FP, FN, TP =confusion_matrix(y_test,pred_labels).ravel()\n",
    "    acc[i] =  (TP+TN) /(TP+FP+TN+FN)\n",
    "    #Normalize X-train and X-test then repeat learning and testing:\n",
    "    \n",
    "    for feature in range(X_train.shape[1]):\n",
    "        X_train[:,feature] = (X_train[:,feature] - np.min(X_train[:,feature]))/(np.max(X_train[:,feature])-np.min(X_train[:,feature]))\n",
    "        X_test[:,feature] =(X_test[:,feature] - np.min(X_test[:,feature]))/(np.max(X_test[:,feature])-np.min(X_test[:,feature]))\n",
    "\n",
    "    norm_svm_clf = svm.SVC(kernel='linear')\n",
    "    norm_svm_clf.fit(X_train, y_train)\n",
    "    pred_labels = norm_svm_clf.predict(X_test)\n",
    "    TN, FP, FN, TP =confusion_matrix(y_test,pred_labels).ravel()\n",
    "    acc_norm[i] =  (TP+TN) /(TP+FP+TN+FN)\n",
    "averaged_Acc = np.average(acc)\n",
    "norm_averaged_Acc = np.average(acc_norm)\n",
    "print(averaged_Acc,\" \", norm_averaged_Acc)"
   ]
  },
  {
   "cell_type": "markdown",
   "metadata": {},
   "source": [
    "## A.  Report the Difference between the dataset used in (1) and those used in (2)\n",
    "### data set used in 1 is not normalized, so features may have any range of values. while in 2, normalization ensures that all features in train and test data are both in the range 0 to 1."
   ]
  },
  {
   "cell_type": "markdown",
   "metadata": {},
   "source": [
    "## B. Report the averaged accuracy over the ten trails. \n",
    "### for 1 the averaged accuracy is 74.56 while in 2 the accuracy is 70.3"
   ]
  },
  {
   "cell_type": "markdown",
   "metadata": {},
   "source": [
    "## C. Discuss the difference in the averaged accuracy of (1) and (2).\n",
    "### the scaling that was done to the features surely affects the position of the points in the n dimensional space , hence changes the line that best seperates the data, and changes accuracy."
   ]
  },
  {
   "cell_type": "markdown",
   "metadata": {},
   "source": [
    "## D. Report all the preprocessing steps you did to the data.\n",
    "### 1- splitting the data to train and test with different random state each time. \n",
    "### 2- normalization so that all features range from 0 to 1. "
   ]
  },
  {
   "cell_type": "markdown",
   "metadata": {},
   "source": [
    "# SVM Implementation from Scratch\n"
   ]
  },
  {
   "cell_type": "code",
   "execution_count": 79,
   "metadata": {},
   "outputs": [
    {
     "data": {
      "image/png": "[encoded data removed]",
      "text/plain": [
       "<Figure size 432x288 with 1 Axes>"
      ]
     },
     "metadata": {
      "needs_background": "light"
     },
     "output_type": "display_data"
    }
   ],
   "source": [
    "import pandas as pd\n",
    "import numpy as np\n",
    "import matplotlib.pyplot as plt\n",
    "from matplotlib import colors\n",
    "from sklearn import datasets\n",
    "\n",
    "dataset= datasets.load_iris()\n",
    "features = dataset.data[:,:2]\n",
    "labels = dataset.target\n",
    "#drop one class from the three\n",
    "new_labels = labels[np.logical_or(labels==0,labels==1)]\n",
    "features = features[np.logical_or(labels==0,labels==1),:]\n",
    "plt.scatter(features[:,0],features[:,1],c=new_labels, cmap=colors.ListedColormap(['red','blue'])) #Visualize to see if the two classes are linearly separable\n",
    "from sklearn.model_selection import train_test_split\n",
    "new_labels[new_labels == 0] = -1 # so that labels are -1 and 1 (different signs)\n",
    "X_train,X_test,y_train,y_test = train_test_split(features,new_labels,test_size=0.2,shuffle=True,random_state=42)\n",
    "\n"
   ]
  },
  {
   "cell_type": "code",
   "execution_count": 86,
   "metadata": {},
   "outputs": [],
   "source": [
    "def fit(X,y,C,numiterations):\n",
    "    w = np.ones(X.shape[1])\n",
    "    b = 0\n",
    "\n",
    "    for iteration in range(numiterations):\n",
    "        for row in range(X.shape[0]):\n",
    "            if ((y[row] * hypothesis(X[row],w,b)) >=1): \n",
    "                w = w - 0.01*2*C*w\n",
    "            else:\n",
    "                w = w - 0.01*(2*C*w - X[row].dot(y[row]))\n",
    "                b = b- 0.01 * y[row]\n",
    "    return w,b\n",
    "\n",
    "\n",
    "def hypothesis(X,w,b):\n",
    "    return X.dot(w) - b\n",
    "def predict(X,w,b):\n",
    "    return np.sign(hypothesis(X,w,b))\n",
    "\n",
    "w,b = fit(X_train,y_train,0.1,1000)\n",
    "predicted_labels = predict(X_test,w,b)"
   ]
  },
  {
   "cell_type": "code",
   "execution_count": 87,
   "metadata": {},
   "outputs": [
    {
     "name": "stdout",
     "output_type": "stream",
     "text": [
      "1.0\n"
     ]
    }
   ],
   "source": [
    "from sklearn.metrics import confusion_matrix\n",
    "TN, FP, FN, TP = confusion_matrix(y_test, predicted_labels).ravel()\n",
    "acc =  (TP+TN) /(TP+FP+TN+FN)\n",
    "print(acc)"
   ]
  },
  {
   "cell_type": "code",
   "execution_count": 88,
   "metadata": {},
   "outputs": [
    {
     "name": "stdout",
     "output_type": "stream",
     "text": [
      "1.0\n"
     ]
    }
   ],
   "source": [
    "#Test the SVM model from Sklearn\n",
    "from sklearn import svm\n",
    "svm_clf = svm.SVC(kernel='linear')\n",
    "svm_clf.fit(X_train, y_train)\n",
    "pred_labels = svm_clf.predict(X_test)\n",
    "TN, FP, FN, TP =confusion_matrix(y_test,pred_labels).ravel()\n",
    "acc =  (TP+TN) /(TP+FP+TN+FN)\n",
    "print(acc)"
   ]
  }
 ],
 "metadata": {
  "interpreter": {
   "hash": "588d49391b6d3799a162df0222124dcb982f2f3fb55a5b5f4bcdbe6ca376e2a6"
  },
  "kernelspec": {
   "display_name": "Python 3.9.7 64-bit",
   "language": "python",
   "name": "python3"
  },
  "language_info": {
   "codemirror_mode": {
    "name": "ipython",
    "version": 3
   },
   "file_extension": ".py",
   "mimetype": "text/x-python",
   "name": "python",
   "nbconvert_exporter": "python",
   "pygments_lexer": "ipython3",
   "version": "3.9.7"
  },
  "orig_nbformat": 4
 },
 "nbformat": 4,
 "nbformat_minor": 2
}
