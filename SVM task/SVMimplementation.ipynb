{
 "cells": [
  {
   "cell_type": "markdown",
   "metadata": {},
   "source": [
    "### For Proplem 1 , we Load the data, try different random states for train test split and avergae the accuracy, Report what happens\n",
    "### while proplem 2 , we do the same but we normalize the data first and report the outcome. "
   ]
  },
  {
   "cell_type": "code",
   "execution_count": 16,
   "metadata": {},
   "outputs": [],
   "source": [
    "import pandas as pd\n",
    "import numpy as np\n",
    "from sklearn.model_selection  import train_test_split\n",
    "data = pd.read_csv('data.txt', sep=\" \", header=None)\n",
    "column_names = []\n",
    "for i in range(1,25):\n",
    "    column_names.append(\"f_{}\".format(i))\n",
    "column_names.append(\"target\")\n"
   ]
  },
  {
   "cell_type": "code",
   "execution_count": 18,
   "metadata": {},
   "outputs": [],
   "source": [
    "from sklearn.model_selection import KFold\n",
    "kfold = KFold(n_splits=10,shuffle=True,random_state=42)\n",
    "for train_idx,test_idx in kfold.split(data):\n",
    "    training = data.iloc[train_idx,0:-1]\n",
    "    validation = data.iloc[test_idx,0:-1]\n",
    "train_labels = list(itemgetter(*train_idx)(data.iloc[:,-1]))"
   ]
  },
  {
   "cell_type": "code",
   "execution_count": 29,
   "metadata": {},
   "outputs": [
    {
     "name": "stdout",
     "output_type": "stream",
     "text": [
      "0.7456249999999999   0.7037499999999999\n"
     ]
    }
   ],
   "source": [
    "from sklearn import svm\n",
    "from operator import itemgetter\n",
    "from sklearn.metrics import confusion_matrix\n",
    "acc = np.empty(10)\n",
    "acc_norm = np.empty(10)\n",
    "for i in range(0,10):\n",
    "    X_train, X_test, y_train, y_test = train_test_split(data.iloc[:,0:-1],data.iloc[:,-1], test_size=0.40, random_state=i)\n",
    "    X_train = np.asarray(X_train)\n",
    "    X_test = np.asarray(X_test)\n",
    "    svm_clf = svm.SVC(kernel='linear')\n",
    "    svm_clf.fit(X_train, y_train)\n",
    "    pred_labels = svm_clf.predict(X_test)\n",
    "    TN, FP, FN, TP =confusion_matrix(y_test,pred_labels).ravel()\n",
    "    acc[i] =  (TP+TN) /(TP+FP+TN+FN)\n",
    "    #Normalize X-train and X-test then repeat learning and testing:\n",
    "    \n",
    "    for feature in range(X_train.shape[1]):\n",
    "        X_train[:,feature] = (X_train[:,feature] - np.min(X_train[:,feature]))/(np.max(X_train[:,feature])-np.min(X_train[:,feature]))\n",
    "        X_test[:,feature] =(X_test[:,feature] - np.min(X_test[:,feature]))/(np.max(X_test[:,feature])-np.min(X_test[:,feature]))\n",
    "\n",
    "    norm_svm_clf = svm.SVC(kernel='linear')\n",
    "    norm_svm_clf.fit(X_train, y_train)\n",
    "    pred_labels = norm_svm_clf.predict(X_test)\n",
    "    TN, FP, FN, TP =confusion_matrix(y_test,pred_labels).ravel()\n",
    "    acc_norm[i] =  (TP+TN) /(TP+FP+TN+FN)\n",
    "averaged_Acc = np.average(acc)\n",
    "norm_averaged_Acc = np.average(acc_norm)\n",
    "print(averaged_Acc,\" \", norm_averaged_Acc)"
   ]
  },
  {
   "cell_type": "markdown",
   "metadata": {},
   "source": [
    "# SVM implementation from scratch"
   ]
  },
  {
   "cell_type": "code",
   "execution_count": null,
   "metadata": {},
   "outputs": [],
   "source": []
  }
 ],
 "metadata": {
  "interpreter": {
   "hash": "588d49391b6d3799a162df0222124dcb982f2f3fb55a5b5f4bcdbe6ca376e2a6"
  },
  "kernelspec": {
   "display_name": "Python 3.9.7 64-bit",
   "language": "python",
   "name": "python3"
  },
  "language_info": {
   "codemirror_mode": {
    "name": "ipython",
    "version": 3
   },
   "file_extension": ".py",
   "mimetype": "text/x-python",
   "name": "python",
   "nbconvert_exporter": "python",
   "pygments_lexer": "ipython3",
   "version": "3.9.7"
  },
  "orig_nbformat": 4
 },
 "nbformat": 4,
 "nbformat_minor": 2
}
